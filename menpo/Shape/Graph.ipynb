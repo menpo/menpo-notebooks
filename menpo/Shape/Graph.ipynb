{
 "cells": [
  {
   "cell_type": "markdown",
   "metadata": {},
   "source": [
    "# Graph\n",
    "\n",
    "This notebook presents the basic concepts behind Menpo's `Graph` class and subclasses. The aim of this notebook is to introduce the user to Graph _very_ basic functionality; a preliminary step before moving on to the `PointGraph` notebook. For higher level functionality along with visualization methods, the user is encouraged to go through the `PointGraph` notebook.\n",
    "\n",
    "The basic `Graph` subclasses are:\n",
    "* `UndirectedGraph`: graphs with undirected edge connections\n",
    "* `DirectedGraph`: graphs with directed edge connections\n",
    "* `Tree`: directed graph in which any two vertices are connected with exactly one path\n",
    "\n",
    "**The corresponding subclasses of `PointGraph` are basically `Graph`s with geometry (`PointCloud`)**. This means that apart from the edge connections between vertices, they also define spatial location coordinates for each vertex. The `PointGraph` subclasses are:\n",
    "* `PointUndirectedGraph`: graphs with undirected edge connections\n",
    "* `PointDirectedGraph`: graphs with directed edge connections\n",
    "* `PointTree`: directed graph in which any two vertices are connected with exactly one path\n",
    "\n",
    "Below, we split the presentation for `Graph` only in the following sections:\n",
    "\n",
    "1. Mathematical notation\n",
    "2. Graphs representation\n",
    "3. Undirected graph\n",
    "4. Isolated vertices\n",
    "5. Directed graph\n",
    "6. Tree\n",
    "7. Basic graph properties\n",
    "8. Basic tree properties"
   ]
  },
  {
   "cell_type": "markdown",
   "metadata": {},
   "source": [
    "## 1. Mathematical notation"
   ]
  },
  {
   "cell_type": "markdown",
   "metadata": {},
   "source": [
    "A graph is mathematically defined as \n",
    "$$G = (V, E)$$, \n",
    "where $V$ is the set of vertices and $E$ is the set of edges. In Menpo, we assume that the vertices in $V$ are numbered with consecutive positive integer numbers starting from 0, i.e. $V=\\{0, 1, \\ldots, |V|\\}$. By defining an edge between two vertices $v_i, v_j\\in V$ as $e_{ij}=(v_i,v_j)$, the set of edges can be represented as $E=\\{e_{ij}\\}, \\forall i,j:(v_i,v_j)~\\text{is edge}$.\n",
    "\n",
    "In Menpo, a graph is represented using the _adjacency matrix_, which stores which vertices are adjacent to which other vertices. This is mathematically expressed as the $|V|\\times|V|$ _sparse_ matrix\n",
    "$$A=\\left\\lbrace\\begin{array}{rl}w_{ij}, & \\text{for}~i,j:e_{ij}\\in E\\\\ 0, & \\text{otherwise}\\end{array}\\right.$$\n",
    "where $w_{ij}$ is the weight of edge $e_{ij}$.\n",
    "\n",
    "Note the following:\n",
    "* The adjacency matrix $A$ of an _undirected graph_ must be _symmetric_.\n",
    "* An edge $e_{ij}$ stored in the adjacency matrix $A$ of a _directed graph_ or _tree_ denote the edge that starts from vertex $v_i$ and ends to vertex $v_j$. So the _rows_ of matrix $A$ are the parent vertices and the _columns_ are the children vertices."
   ]
  },
  {
   "cell_type": "markdown",
   "metadata": {},
   "source": [
    "## 2. Graphs representation"
   ]
  },
  {
   "cell_type": "markdown",
   "metadata": {},
   "source": [
    "Based on the above, the adjacency matrix of size $|V|\\times|V|$ that gets passed to a Graph constructor can be defined either as a `numpy.ndarray` or a `scipy.sparse.csr_matrix`. Then it is internally stored as a `scipy.sparse.csr_matrix` for memory efficiency reasons.\n",
    "\n",
    "So let's make the necessary imports."
   ]
  },
  {
   "cell_type": "code",
   "execution_count": 1,
   "metadata": {},
   "outputs": [],
   "source": [
    "import numpy as np\n",
    "from scipy.sparse import csr_matrix\n",
    "\n",
    "from menpo.shape import UndirectedGraph, DirectedGraph, Tree"
   ]
  },
  {
   "cell_type": "markdown",
   "metadata": {},
   "source": [
    "## 3. Undirected graph"
   ]
  },
  {
   "cell_type": "markdown",
   "metadata": {},
   "source": [
    "The following undirected graph:\n",
    "\n",
    "```\n",
    "        |---0---|\n",
    "        |       |\n",
    "        |       |\n",
    "        1-------2\n",
    "        |       |\n",
    "        |       |\n",
    "        3-------4\n",
    "        |\n",
    "        |\n",
    "        5\n",
    "```\n",
    "can be defined as:"
   ]
  },
  {
   "cell_type": "code",
   "execution_count": 2,
   "metadata": {},
   "outputs": [
    {
     "name": "stdout",
     "output_type": "stream",
     "text": [
      "Undirected graph of 6 vertices and 7 edges.\n"
     ]
    }
   ],
   "source": [
    "adj_undirected = np.array([[0, 1, 1, 0, 0, 0],\n",
    "                           [1, 0, 1, 1, 0, 0], \n",
    "                           [1, 1, 0, 0, 1, 0],\n",
    "                           [0, 1, 0, 0, 1, 1],\n",
    "                           [0, 0, 1, 1, 0, 0],\n",
    "                           [0, 0, 0, 1, 0, 0]])\n",
    "undirected_graph = UndirectedGraph(adj_undirected)\n",
    "print(undirected_graph)"
   ]
  },
  {
   "cell_type": "markdown",
   "metadata": {},
   "source": [
    "or"
   ]
  },
  {
   "cell_type": "code",
   "execution_count": 3,
   "metadata": {},
   "outputs": [
    {
     "name": "stdout",
     "output_type": "stream",
     "text": [
      "Undirected graph of 6 vertices and 7 edges.\n"
     ]
    }
   ],
   "source": [
    "adj_undirected = csr_matrix(([1] * 14, ([0, 1, 0, 2, 1, 2, 1, 3, 2, 4, 3, 4, 3, 5], \n",
    "                                        [1, 0, 2, 0, 2, 1, 3, 1, 4, 2, 4, 3, 5, 3])), \n",
    "                            shape=(6, 6))\n",
    "undirected_graph = UndirectedGraph(adj_undirected)\n",
    "print(undirected_graph)"
   ]
  },
  {
   "cell_type": "markdown",
   "metadata": {},
   "source": [
    "## 4. Isolated vertices"
   ]
  },
  {
   "cell_type": "markdown",
   "metadata": {},
   "source": [
    "Note that any directed or undirected graph (_not_ a tree) can have isolated vertices, i.e. vertices with no edge connections. For example the following undirected graph:\n",
    "```\n",
    "            0---|\n",
    "                |\n",
    "                |\n",
    "        1       2\n",
    "                |\n",
    "                |\n",
    "        3-------4\n",
    "\n",
    "\n",
    "        5\n",
    "```\n",
    "can be defined as:"
   ]
  },
  {
   "cell_type": "code",
   "execution_count": 4,
   "metadata": {},
   "outputs": [
    {
     "name": "stdout",
     "output_type": "stream",
     "text": [
      "Undirected graph of 6 vertices (2 isolated) and 3 edges.\n"
     ]
    }
   ],
   "source": [
    "adj_isolated = np.array([[0, 0, 1, 0, 0, 0],\n",
    "                         [0, 0, 0, 0, 0, 0],\n",
    "                         [1, 0, 0, 0, 1, 0],\n",
    "                         [0, 0, 0, 0, 1, 0],\n",
    "                         [0, 0, 1, 1, 0, 0],\n",
    "                         [0, 0, 0, 0, 0, 0]])\n",
    "isolated_graph = UndirectedGraph(adj_isolated)\n",
    "print(isolated_graph)"
   ]
  },
  {
   "cell_type": "markdown",
   "metadata": {},
   "source": [
    "or"
   ]
  },
  {
   "cell_type": "code",
   "execution_count": 5,
   "metadata": {},
   "outputs": [
    {
     "name": "stdout",
     "output_type": "stream",
     "text": [
      "Undirected graph of 6 vertices (2 isolated) and 3 edges.\n"
     ]
    }
   ],
   "source": [
    "adj_isolated = csr_matrix(([1] * 6, ([0, 2, 2, 4, 3, 4], [2, 0, 4, 2, 4, 3])), shape=(6, 6))\n",
    "isolated_graph = UndirectedGraph(adj_isolated)\n",
    "print(isolated_graph)"
   ]
  },
  {
   "cell_type": "markdown",
   "metadata": {},
   "source": [
    "## 5. Directed graph"
   ]
  },
  {
   "cell_type": "markdown",
   "metadata": {},
   "source": [
    "The following directed graph:\n",
    "\n",
    "```\n",
    "        |-->0<--|\n",
    "        |       |\n",
    "        |       |\n",
    "        1<----->2\n",
    "        |       |\n",
    "        v       v\n",
    "        3------>4\n",
    "        |\n",
    "        v\n",
    "        5\n",
    "```\n",
    "can be defined as:"
   ]
  },
  {
   "cell_type": "code",
   "execution_count": 6,
   "metadata": {},
   "outputs": [
    {
     "name": "stdout",
     "output_type": "stream",
     "text": [
      "Directed graph of 6 vertices and 8 edges.\n"
     ]
    }
   ],
   "source": [
    "adj_directed = np.array([[0, 0, 0, 0, 0, 0],\n",
    "                         [1, 0, 1, 1, 0, 0],\n",
    "                         [1, 1, 0, 0, 1, 0],\n",
    "                         [0, 0, 0, 0, 1, 1],\n",
    "                         [0, 0, 0, 0, 0, 0],\n",
    "                         [0, 0, 0, 0, 0, 0]])\n",
    "directed_graph = DirectedGraph(adj_directed)\n",
    "print(directed_graph)"
   ]
  },
  {
   "cell_type": "markdown",
   "metadata": {},
   "source": [
    "or"
   ]
  },
  {
   "cell_type": "code",
   "execution_count": 7,
   "metadata": {},
   "outputs": [
    {
     "name": "stdout",
     "output_type": "stream",
     "text": [
      "Directed graph of 6 vertices and 8 edges.\n"
     ]
    }
   ],
   "source": [
    "adj_directed = csr_matrix(([1] * 8, ([1, 2, 1, 2, 1, 2, 3, 3], [0, 0, 2, 1, 3, 4, 4, 5])), shape=(6, 6))\n",
    "directed_graph = DirectedGraph(adj_directed)\n",
    "print(directed_graph)"
   ]
  },
  {
   "cell_type": "markdown",
   "metadata": {},
   "source": [
    "## 6. Tree"
   ]
  },
  {
   "cell_type": "markdown",
   "metadata": {},
   "source": [
    "A Tree in Menpo is defined as a directed graph, thus `Tree` is a subclass of `DirectedGraph`. The following tree:\n",
    "\n",
    "```\n",
    "               0\n",
    "               |\n",
    "            ___|___\n",
    "           1       2\n",
    "           |       |\n",
    "          _|_      |\n",
    "         3   4     5\n",
    "         |   |     |\n",
    "         |   |     |\n",
    "         6   7     8\n",
    "```\n",
    "can be defined as:"
   ]
  },
  {
   "cell_type": "code",
   "execution_count": 8,
   "metadata": {},
   "outputs": [
    {
     "name": "stdout",
     "output_type": "stream",
     "text": [
      "Tree of depth 3 with 9 vertices and 3 leaves.\n"
     ]
    }
   ],
   "source": [
    "adj_tree = np.array([[0, 1, 1, 0, 0, 0, 0, 0, 0],\n",
    "                     [0, 0, 0, 1, 1, 0, 0, 0, 0],\n",
    "                     [0, 0, 0, 0, 0, 1, 0, 0, 0],\n",
    "                     [0, 0, 0, 0, 0, 0, 1, 0, 0],\n",
    "                     [0, 0, 0, 0, 0, 0, 0, 1, 0],\n",
    "                     [0, 0, 0, 0, 0, 0, 0, 0, 1],\n",
    "                     [0, 0, 0, 0, 0, 0, 0, 0, 0],\n",
    "                     [0, 0, 0, 0, 0, 0, 0, 0, 0],\n",
    "                     [0, 0, 0, 0, 0, 0, 0, 0, 0]])\n",
    "tree = Tree(adj_tree, root_vertex=0)\n",
    "print(tree)"
   ]
  },
  {
   "cell_type": "markdown",
   "metadata": {},
   "source": [
    "or"
   ]
  },
  {
   "cell_type": "code",
   "execution_count": 9,
   "metadata": {},
   "outputs": [
    {
     "name": "stdout",
     "output_type": "stream",
     "text": [
      "Tree of depth 3 with 9 vertices and 3 leaves.\n"
     ]
    }
   ],
   "source": [
    "adj_tree = csr_matrix(([1] * 8, ([0, 0, 1, 1, 2, 3, 4, 5], [1, 2, 3, 4, 5, 6, 7, 8])), shape=(9, 9))\n",
    "tree = Tree(adj_tree, root_vertex=0)\n",
    "print(tree)"
   ]
  },
  {
   "cell_type": "markdown",
   "metadata": {},
   "source": [
    "## 7. Basic graph properties"
   ]
  },
  {
   "cell_type": "markdown",
   "metadata": {},
   "source": [
    "Below we show how to retrieve basic properties from all the previously defined graphs, i.e. `undirected_graph`, `isolated_graph`, `directed_graph` and `tree` of Sections 3, 4, 5 and 6 repsectively.\n",
    "\n",
    "#### Number of vertices and edges\n",
    "For all the above defined graphs, we can get the number of vertices $|V|$ and number of edges $|E|$ as:"
   ]
  },
  {
   "cell_type": "code",
   "execution_count": 10,
   "metadata": {},
   "outputs": [
    {
     "name": "stdout",
     "output_type": "stream",
     "text": [
      "The undirected_graph has 6 vertices and 7 edges.\n",
      "The isolated_graph has 6 vertices and 3 edges.\n",
      "The directed_graph has 6 vertices and 8 edges.\n",
      "The tree has 9 vertices and 8 edges.\n"
     ]
    }
   ],
   "source": [
    "print(\"The undirected_graph has {} vertices and {} edges.\".format(undirected_graph.n_vertices, undirected_graph.n_edges))\n",
    "print(\"The isolated_graph has {} vertices and {} edges.\".format(isolated_graph.n_vertices, isolated_graph.n_edges))\n",
    "print(\"The directed_graph has {} vertices and {} edges.\".format(directed_graph.n_vertices, directed_graph.n_edges))\n",
    "print(\"The tree has {} vertices and {} edges.\".format(tree.n_vertices, tree.n_edges))"
   ]
  },
  {
   "cell_type": "markdown",
   "metadata": {},
   "source": [
    "#### Sets of vertices and edges\n",
    "We can also get the sets of vertices and edges, i.e. $V$ and $E$ respectively, as:"
   ]
  },
  {
   "cell_type": "code",
   "execution_count": 11,
   "metadata": {},
   "outputs": [
    {
     "name": "stdout",
     "output_type": "stream",
     "text": [
      "undirected_graph: The set of vertices $V$ is\n",
      "range(0, 6)\n",
      "and the set of edges $E$ is\n",
      "[[0 1]\n",
      " [0 2]\n",
      " [1 2]\n",
      " [1 3]\n",
      " [2 4]\n",
      " [3 4]\n",
      " [3 5]]\n"
     ]
    }
   ],
   "source": [
    "print(\"undirected_graph: The set of vertices $V$ is\")\n",
    "print(undirected_graph.vertices)\n",
    "print(\"and the set of edges $E$ is\")\n",
    "print(undirected_graph.edges)"
   ]
  },
  {
   "cell_type": "markdown",
   "metadata": {},
   "source": [
    "#### Adjacency list\n",
    "We can also retrieve the _adjacency list_, i.e. a list that for each vertex stores the list of its neighbours (or children in the case of directed graphs). For example:"
   ]
  },
  {
   "cell_type": "code",
   "execution_count": 12,
   "metadata": {},
   "outputs": [
    {
     "name": "stdout",
     "output_type": "stream",
     "text": [
      "The adjacency list of the undirected_graph is [[1, 2], [0, 2, 3], [0, 1, 4], [1, 4, 5], [2, 3], [3]].\n",
      "The adjacency list of the directed_graph is [[], [0, 2, 3], [0, 1, 4], [4, 5], [], []].\n"
     ]
    }
   ],
   "source": [
    "print(\"The adjacency list of the undirected_graph is {}.\".format(undirected_graph.get_adjacency_list()))\n",
    "print(\"The adjacency list of the directed_graph is {}.\".format(directed_graph.get_adjacency_list()))"
   ]
  },
  {
   "cell_type": "markdown",
   "metadata": {},
   "source": [
    "#### Isolated vertices\n",
    "There are methods to check and retrieve _isolated vertices_, for example:"
   ]
  },
  {
   "cell_type": "code",
   "execution_count": 13,
   "metadata": {},
   "outputs": [
    {
     "name": "stdout",
     "output_type": "stream",
     "text": [
      "Has the undirected_graph any isolated vertices? False.\n",
      "Has the isolated_graph any isolated vertices? True, it has [1, 5].\n"
     ]
    }
   ],
   "source": [
    "print(\"Has the undirected_graph any isolated vertices? {}.\".format(undirected_graph.has_isolated_vertices()))\n",
    "print(\"Has the isolated_graph any isolated vertices? {}, it has {}.\".format(isolated_graph.has_isolated_vertices(), \n",
    "                                                                            isolated_graph.isolated_vertices()))"
   ]
  },
  {
   "cell_type": "markdown",
   "metadata": {},
   "source": [
    "#### Neighbours and is_edge\n",
    "We can check if a pair of vertices are connected with an edge:"
   ]
  },
  {
   "cell_type": "code",
   "execution_count": 14,
   "metadata": {},
   "outputs": [
    {
     "name": "stdout",
     "output_type": "stream",
     "text": [
      "Are vertices 4 and 7 of the tree connected? True.\n",
      "Are vertices 5 and 1 of the directed_graph connected? False.\n"
     ]
    }
   ],
   "source": [
    "i = 4\n",
    "j = 7\n",
    "print(\"Are vertices {} and {} of the tree connected? {}.\".format(i, j, tree.is_edge(i, j)))\n",
    "\n",
    "i = 5\n",
    "j = 1\n",
    "print(\"Are vertices {} and {} of the directed_graph connected? {}.\".format(i, j, directed_graph.is_edge(i, j)))"
   ]
  },
  {
   "cell_type": "markdown",
   "metadata": {},
   "source": [
    "We can also retrieve whether a vertex has neighbours (or children) and who are they, as:"
   ]
  },
  {
   "cell_type": "code",
   "execution_count": 15,
   "metadata": {},
   "outputs": [
    {
     "name": "stdout",
     "output_type": "stream",
     "text": [
      "How many neighbours does vertex 1 of the isolated_graph have? 0.\n",
      "How many children does vertex 1 of the directed_graph have? 3, they are [0, 2, 3].\n",
      "Who is the parent of vertex 1 of the tree? Vertex 0.\n"
     ]
    }
   ],
   "source": [
    "v = 1\n",
    "print(\"How many neighbours does vertex {} of the isolated_graph have? {}.\".format(v, isolated_graph.n_neighbours(v)))\n",
    "print(\"How many children does vertex {} of the directed_graph have? {}, they are {}.\".format(v, directed_graph.n_children(v), \n",
    "                                                                                             directed_graph.children(v)))\n",
    "print(\"Who is the parent of vertex {} of the tree? Vertex {}.\".format(v, tree.parent(v)))"
   ]
  },
  {
   "cell_type": "markdown",
   "metadata": {},
   "source": [
    "#### Cycles and trees\n",
    "We can check whether a graph has cycles"
   ]
  },
  {
   "cell_type": "code",
   "execution_count": 16,
   "metadata": {},
   "outputs": [
    {
     "name": "stdout",
     "output_type": "stream",
     "text": [
      "Does the undirected_graph have cycles? True.\n",
      "Does the isolated_graph have cycles? False.\n",
      "Does the directed_graph have cycles? True.\n",
      "Does the tree have cycles? False.\n"
     ]
    }
   ],
   "source": [
    "print(\"Does the undirected_graph have cycles? {}.\".format(undirected_graph.has_cycles()))\n",
    "print(\"Does the isolated_graph have cycles? {}.\".format(isolated_graph.has_cycles()))\n",
    "print(\"Does the directed_graph have cycles? {}.\".format(directed_graph.has_cycles()))\n",
    "print(\"Does the tree have cycles? {}.\".format(tree.has_cycles()))"
   ]
  },
  {
   "cell_type": "markdown",
   "metadata": {},
   "source": [
    "and, of course whether a graph is a tree"
   ]
  },
  {
   "cell_type": "code",
   "execution_count": 17,
   "metadata": {},
   "outputs": [
    {
     "name": "stdout",
     "output_type": "stream",
     "text": [
      "Is the undirected_graph a tree? False.\n",
      "Is the directed_graph a tree? False.\n",
      "Is the tree a tree? True.\n"
     ]
    }
   ],
   "source": [
    "print(\"Is the undirected_graph a tree? {}.\".format(undirected_graph.is_tree()))\n",
    "print(\"Is the directed_graph a tree? {}.\".format(directed_graph.is_tree()))\n",
    "print(\"Is the tree a tree? {}.\".format(tree.is_tree()))"
   ]
  },
  {
   "cell_type": "markdown",
   "metadata": {},
   "source": [
    "## 8. Basic tree properties"
   ]
  },
  {
   "cell_type": "markdown",
   "metadata": {},
   "source": [
    "Menpo's `Tree` instance has additional basic properties.\n",
    "\n",
    "#### Predecessors list\n",
    "Apart from the adjacency list mentioned above, a tree can also be represented by a predecessors list, i.e. a list that stores the parent for each vertex. ``None`` denotes the root vertex. For example"
   ]
  },
  {
   "cell_type": "code",
   "execution_count": 18,
   "metadata": {},
   "outputs": [
    {
     "name": "stdout",
     "output_type": "stream",
     "text": [
      "[None, 0, 0, 1, 1, 2, 3, 4, 5]\n"
     ]
    }
   ],
   "source": [
    "print(tree.predecessors_list)"
   ]
  },
  {
   "cell_type": "markdown",
   "metadata": {},
   "source": [
    "#### Depth\n",
    "We can find the maximum depth of a tree"
   ]
  },
  {
   "cell_type": "code",
   "execution_count": 19,
   "metadata": {},
   "outputs": [
    {
     "name": "stdout",
     "output_type": "stream",
     "text": [
      "3\n"
     ]
    }
   ],
   "source": [
    "print(tree.maximum_depth)"
   ]
  },
  {
   "cell_type": "markdown",
   "metadata": {},
   "source": [
    "as well as the depth of a specific vertex"
   ]
  },
  {
   "cell_type": "code",
   "execution_count": 20,
   "metadata": {},
   "outputs": [
    {
     "name": "stdout",
     "output_type": "stream",
     "text": [
      "The depth of vertex 4 is 2.\n",
      "The depth of vertex 0 is 0.\n"
     ]
    }
   ],
   "source": [
    "print(\"The depth of vertex 4 is {}.\".format(tree.depth_of_vertex(4)))\n",
    "print(\"The depth of vertex 0 is {}.\".format(tree.depth_of_vertex(0)))"
   ]
  },
  {
   "cell_type": "markdown",
   "metadata": {},
   "source": [
    "#### Leaves\n",
    "Finally, we can get the number of leaves as well as whether a specific vertex is a leaf (has no children):"
   ]
  },
  {
   "cell_type": "code",
   "execution_count": 21,
   "metadata": {},
   "outputs": [
    {
     "name": "stdout",
     "output_type": "stream",
     "text": [
      "The tree has 3 leaves.\n",
      "Is vertex 7 a leaf? True.\n"
     ]
    }
   ],
   "source": [
    "print(\"The tree has {} leaves.\".format(tree.n_leaves))\n",
    "print(\"Is vertex 7 a leaf? {}.\".format(tree.is_leaf(7)))"
   ]
  }
 ],
 "metadata": {
  "kernelspec": {
   "display_name": "Python 3",
   "language": "python",
   "name": "python3"
  },
  "language_info": {
   "codemirror_mode": {
    "name": "ipython",
    "version": 3
   },
   "file_extension": ".py",
   "mimetype": "text/x-python",
   "name": "python",
   "nbconvert_exporter": "python",
   "pygments_lexer": "ipython3",
   "version": "3.8.8"
  }
 },
 "nbformat": 4,
 "nbformat_minor": 1
}
